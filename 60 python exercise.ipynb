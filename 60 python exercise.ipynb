{
 "cells": [
  {
   "cell_type": "markdown",
   "id": "759d04ba",
   "metadata": {},
   "source": [
    "**1-Write a Python program to calculate the length of a string using 2 ways"
   ]
  },
  {
   "cell_type": "code",
   "execution_count": 1,
   "id": "e434c950",
   "metadata": {},
   "outputs": [
    {
     "name": "stdout",
     "output_type": "stream",
     "text": [
      "please enter your name: ahmed\n",
      "5\n"
     ]
    }
   ],
   "source": [
    "name = input(\"please enter your name: \")\n",
    "print(len(name))"
   ]
  },
  {
   "cell_type": "code",
   "execution_count": 2,
   "id": "7a2dfa32",
   "metadata": {
    "scrolled": true
   },
   "outputs": [
    {
     "name": "stdout",
     "output_type": "stream",
     "text": [
      "5\n"
     ]
    }
   ],
   "source": [
    "counter = 0\n",
    "for i in name:\n",
    "    counter +=1\n",
    "print(counter)"
   ]
  },
  {
   "cell_type": "markdown",
   "id": "d7cc9da7",
   "metadata": {},
   "source": [
    "**2-Write a Python program to get a string made of the first 2 and last 2 characters of a given string. If the string length is less than 2, return the empty string instead (\"##Sample String : 'w3resource'\n",
    "Expected Result : 'w3ce'\n",
    "##Sample String : 'w3'\n",
    "Expected Result : 'w3w3'\n",
    "##Sample String : ' w'\n",
    "Expected Result : Empty String)"
   ]
  },
  {
   "cell_type": "code",
   "execution_count": 3,
   "id": "dafa9dd8",
   "metadata": {},
   "outputs": [
    {
     "name": "stdout",
     "output_type": "stream",
     "text": [
      "please enter your name: ahmed\n",
      "ahed\n"
     ]
    }
   ],
   "source": [
    "name = input(\"please enter your name: \")\n",
    "if len(name) < 2:\n",
    "    print(\" \")\n",
    "else:\n",
    "    print(name[0:2]+name[-2:])"
   ]
  },
  {
   "cell_type": "markdown",
   "id": "1534f956",
   "metadata": {},
   "source": [
    "**3-Write a Python program to add 'ing' at the end of a given string (length should be at least 3). If the given string already ends with 'ing', add 'ly' instead. If the string length of the given string is less than 3, leave it unchanged. (Sample String : 'abc'\n",
    "Expected Result : 'abcing')**"
   ]
  },
  {
   "cell_type": "code",
   "execution_count": 8,
   "id": "7ff8cec4",
   "metadata": {},
   "outputs": [
    {
     "name": "stdout",
     "output_type": "stream",
     "text": [
      "please enter a name: playing\n",
      "playly\n"
     ]
    }
   ],
   "source": [
    "name = input(\"please enter a name: \")\n",
    "\n",
    "if len(name) < 3 :\n",
    "    print(name)\n",
    "else:\n",
    "    if name[-3: ] == \"ing\":\n",
    "        print(name[:-3]+\"ly\")\n",
    "    else:\n",
    "        print(name + \"ing\")"
   ]
  },
  {
   "cell_type": "markdown",
   "id": "1c0a6627",
   "metadata": {},
   "source": [
    "**4-Write a Python function that takes a list of words and return the longest word and the length of the longest one\n",
    "(Longest word: Exercises\n",
    "Length of the longest word: 9)**"
   ]
  },
  {
   "cell_type": "code",
   "execution_count": 14,
   "id": "397341d9",
   "metadata": {},
   "outputs": [],
   "source": [
    "list = [\"ahmed\",\"ali\",\"abd elrahman\",\"mohamed\"]\n",
    "\n",
    "def returncounter():\n",
    "    \n",
    "    counter = 0\n",
    "    maxword = None\n",
    "    \n",
    "    for word in list :\n",
    "        if len(word) > counter:\n",
    "            counter = len(word)\n",
    "            maxword = word\n",
    "            \n",
    "    return counter, maxword"
   ]
  },
  {
   "cell_type": "code",
   "execution_count": 16,
   "id": "143b9947",
   "metadata": {},
   "outputs": [
    {
     "data": {
      "text/plain": [
       "(12, 'abd elrahman')"
      ]
     },
     "execution_count": 16,
     "metadata": {},
     "output_type": "execute_result"
    }
   ],
   "source": [
    "returncounter()"
   ]
  },
  {
   "cell_type": "markdown",
   "id": "53a03a6a",
   "metadata": {},
   "source": [
    "**5-Write a Python program to change a given string to a newly string where the first and last chars have been exchanged using 2 ways (Sample String:abca  Expected Result:ebce)**"
   ]
  },
  {
   "cell_type": "code",
   "execution_count": 17,
   "id": "fd327d2a",
   "metadata": {},
   "outputs": [
    {
     "name": "stdout",
     "output_type": "stream",
     "text": [
      "please enter a name: ahmed\n",
      "dhmea\n"
     ]
    }
   ],
   "source": [
    "name = input(\"please enter a name: \")\n",
    "print(name[-1] + name[1:-1] + name[0])"
   ]
  },
  {
   "cell_type": "code",
   "execution_count": 18,
   "id": "285788b4",
   "metadata": {},
   "outputs": [
    {
     "name": "stdout",
     "output_type": "stream",
     "text": [
      "please enter a name: mohamed\n"
     ]
    },
    {
     "data": {
      "text/plain": [
       "'dohamem'"
      ]
     },
     "execution_count": 18,
     "metadata": {},
     "output_type": "execute_result"
    }
   ],
   "source": [
    "name = input(\"please enter a name: \")\n",
    "a = name[0]\n",
    "b = name[-1]\n",
    "b + name[1:-1] + a"
   ]
  },
  {
   "cell_type": "markdown",
   "id": "25f89808",
   "metadata": {},
   "source": [
    "**6-Write a Python program to remove characters that have odd index values in a given string (Sample String:abca Expected Result:ac)**"
   ]
  },
  {
   "cell_type": "code",
   "execution_count": 20,
   "id": "05959bd7",
   "metadata": {},
   "outputs": [
    {
     "name": "stdout",
     "output_type": "stream",
     "text": [
      "please enter a name: ahmed raafat\n",
      "amdraa\n"
     ]
    }
   ],
   "source": [
    "name = input(\"please enter a name: \")\n",
    "print(name[::2])"
   ]
  },
  {
   "cell_type": "markdown",
   "id": "eb16e898",
   "metadata": {},
   "source": [
    "**7-Write a Python program to count the occurrences of each word in a given sentence (Sample String:amr and ahmed are frindes but amr is the tallest Expected Result:2)**"
   ]
  },
  {
   "cell_type": "code",
   "execution_count": 28,
   "id": "01ce6cf5",
   "metadata": {},
   "outputs": [
    {
     "name": "stdout",
     "output_type": "stream",
     "text": [
      "my 1\n",
      "name 2\n",
      "is 2\n",
      "ahmed, 1\n",
      "ahmed 3\n",
      "has 1\n",
      "21 1\n",
      "years 1\n",
      "old, 1\n",
      "ahmed 3\n",
      "father's 1\n",
      "name 2\n",
      "is 2\n",
      "raafat 1\n"
     ]
    }
   ],
   "source": [
    "string = \"my name is ahmed, ahmed has 21 years old, ahmed father's name is raafat\"\n",
    "\n",
    "word = string.split()\n",
    "word\n",
    "\n",
    "for i in word:\n",
    "    print(i, string.count(i))"
   ]
  },
  {
   "cell_type": "markdown",
   "id": "4e8125f1",
   "metadata": {},
   "source": [
    "**8-Write a Python script that takes input from the user and displays that input back in upper and lower cases**"
   ]
  },
  {
   "cell_type": "code",
   "execution_count": 31,
   "id": "66c8f778",
   "metadata": {},
   "outputs": [
    {
     "name": "stdout",
     "output_type": "stream",
     "text": [
      "please enter a name: ahmed\n",
      "AHMED\n",
      "ahmed\n"
     ]
    }
   ],
   "source": [
    "name = input(\"please enter a name: \")\n",
    "print(name.upper())\n",
    "print(name.lower())"
   ]
  },
  {
   "cell_type": "markdown",
   "id": "fcd68aa1",
   "metadata": {},
   "source": [
    "**9-Write a Python function to reverse a string if its length is a multiple of 4**"
   ]
  },
  {
   "cell_type": "code",
   "execution_count": 35,
   "id": "0671a931",
   "metadata": {},
   "outputs": [
    {
     "name": "stdout",
     "output_type": "stream",
     "text": [
      "please enter a name: rami\n",
      "imar\n"
     ]
    }
   ],
   "source": [
    "name = input(\"please enter a name: \")\n",
    "\n",
    "if len(name) % 4 == 0 :\n",
    "    print(name[::-1])\n",
    "else:\n",
    "    print(name)"
   ]
  },
  {
   "cell_type": "markdown",
   "id": "b577c68d",
   "metadata": {},
   "source": [
    "**10- Write a Python program to remove a newline in Python**"
   ]
  },
  {
   "cell_type": "code",
   "execution_count": 37,
   "id": "e0c6525a",
   "metadata": {},
   "outputs": [
    {
     "data": {
      "text/plain": [
       "'ahmedraafatali'"
      ]
     },
     "execution_count": 37,
     "metadata": {},
     "output_type": "execute_result"
    }
   ],
   "source": [
    "string = '''\n",
    "ahmed\n",
    "raafat\n",
    "ali\n",
    "'''\n",
    "\n",
    "string = string.replace(\"\\n\", \"\")\n",
    "string"
   ]
  },
  {
   "cell_type": "markdown",
   "id": "80db5ae0",
   "metadata": {},
   "source": [
    "**11-Write a Python program to check whether a string starts with specified characters**"
   ]
  },
  {
   "cell_type": "code",
   "execution_count": 43,
   "id": "0cc4e03e",
   "metadata": {},
   "outputs": [
    {
     "name": "stdout",
     "output_type": "stream",
     "text": [
      "please enter a name: ahmed\n",
      "okay\n"
     ]
    }
   ],
   "source": [
    "name = input(\"please enter a name: \")\n",
    "ch = 'a'\n",
    "\n",
    "if name[0] == ch:\n",
    "    print(\"okay\")\n",
    "else:\n",
    "    print(\"not okay\")"
   ]
  },
  {
   "cell_type": "markdown",
   "id": "593a68db",
   "metadata": {},
   "source": [
    "**12- Write a Python program to add prefix text to all of the lines in a string**"
   ]
  },
  {
   "cell_type": "code",
   "execution_count": 50,
   "id": "d2e46ada",
   "metadata": {},
   "outputs": [
    {
     "data": {
      "text/plain": [
       "['Mr. ahmed is the best', 'Mr. mohamed is aweswom', 'Mr. malik is amazing']"
      ]
     },
     "execution_count": 50,
     "metadata": {},
     "output_type": "execute_result"
    }
   ],
   "source": [
    "name = '''ahmed is the best\n",
    "mohamed is aweswom\n",
    "malik is amazing\n",
    "'''\n",
    "\n",
    "lines = name.splitlines()\n",
    "newlines = [\"Mr. \"+ line for line in lines]\n",
    "\n",
    "newlines"
   ]
  },
  {
   "cell_type": "markdown",
   "id": "86fa1543",
   "metadata": {},
   "source": [
    "**13-Write a Python program to print numbers up to 2 decimal places**"
   ]
  },
  {
   "cell_type": "code",
   "execution_count": 51,
   "id": "cd4a9d89",
   "metadata": {},
   "outputs": [
    {
     "data": {
      "text/plain": [
       "2.66"
      ]
     },
     "execution_count": 51,
     "metadata": {},
     "output_type": "execute_result"
    }
   ],
   "source": [
    "number = 2.6554554\n",
    "round(number,2)"
   ]
  },
  {
   "cell_type": "markdown",
   "id": "452c0ab0",
   "metadata": {},
   "source": [
    "**14-Write a Python program to print the following numbers up to 2 decimal places with a sign**"
   ]
  },
  {
   "cell_type": "code",
   "execution_count": null,
   "id": "73e82479",
   "metadata": {},
   "outputs": [],
   "source": []
  },
  {
   "cell_type": "markdown",
   "id": "32b1811a",
   "metadata": {},
   "source": [
    "**15-Write a Python program to display a number with a comma separator**"
   ]
  },
  {
   "cell_type": "code",
   "execution_count": 52,
   "id": "f30fc0b6",
   "metadata": {},
   "outputs": [
    {
     "data": {
      "text/plain": [
       "'2,3'"
      ]
     },
     "execution_count": 52,
     "metadata": {},
     "output_type": "execute_result"
    }
   ],
   "source": [
    "number = 2.3\n",
    "newnumber = str(number)\n",
    "newnumber.replace(\".\",\",\")"
   ]
  },
  {
   "cell_type": "markdown",
   "id": "0477f487",
   "metadata": {},
   "source": [
    "**16-Write a Python program to reverse a string using 2 ways**"
   ]
  },
  {
   "cell_type": "code",
   "execution_count": 57,
   "id": "aa8beec8",
   "metadata": {
    "scrolled": true
   },
   "outputs": [
    {
     "name": "stdout",
     "output_type": "stream",
     "text": [
      "please enter a name: ahmed\n",
      "demha\n"
     ]
    }
   ],
   "source": [
    "string = input(\"please enter a name: \")\n",
    "print(string[::-1])"
   ]
  },
  {
   "cell_type": "code",
   "execution_count": 58,
   "id": "9c115c7d",
   "metadata": {},
   "outputs": [
    {
     "data": {
      "text/plain": [
       "'tafaar demha'"
      ]
     },
     "execution_count": 58,
     "metadata": {},
     "output_type": "execute_result"
    }
   ],
   "source": [
    "reversed_string = ''.join(reversed(\"ahmed raafat\"))\n",
    "reversed_string"
   ]
  },
  {
   "cell_type": "code",
   "execution_count": 59,
   "id": "1ebbf2c3",
   "metadata": {},
   "outputs": [
    {
     "name": "stdout",
     "output_type": "stream",
     "text": [
      "tafaar demha"
     ]
    }
   ],
   "source": [
    "name = \"ahmed raafat\"\n",
    "for i in range(len(name)-1, -1, -1):\n",
    "    print(name[i], end=\"\")"
   ]
  },
  {
   "cell_type": "markdown",
   "id": "5afc3166",
   "metadata": {},
   "source": [
    " **17-Write a Python program to count repeated characters in a string (hint:use dictionary)**"
   ]
  },
  {
   "cell_type": "code",
   "execution_count": 62,
   "id": "515a469c",
   "metadata": {},
   "outputs": [
    {
     "data": {
      "text/plain": [
       "{'m': 2,\n",
       " 'o': 1,\n",
       " 'h': 1,\n",
       " 'a': 4,\n",
       " 'e': 1,\n",
       " 'd': 1,\n",
       " ' ': 1,\n",
       " 'r': 1,\n",
       " 'f': 1,\n",
       " 't': 1}"
      ]
     },
     "execution_count": 62,
     "metadata": {},
     "output_type": "execute_result"
    }
   ],
   "source": [
    "name = \"mohamed raafat\"\n",
    "chs = []\n",
    "\n",
    "for i in name:\n",
    "    chs.append(i)\n",
    "    \n",
    "chs\n",
    "\n",
    "myd = dict()\n",
    "for i in chs:\n",
    "    myd[i] = name.count(i)\n",
    "    \n",
    "myd"
   ]
  },
  {
   "cell_type": "markdown",
   "id": "ae14e4e5",
   "metadata": {},
   "source": [
    "**18-Write a Python program to find the first non-repeating character in a given string**"
   ]
  },
  {
   "cell_type": "code",
   "execution_count": 73,
   "id": "d73778e5",
   "metadata": {},
   "outputs": [
    {
     "name": "stdout",
     "output_type": "stream",
     "text": [
      "c\n"
     ]
    }
   ],
   "source": [
    "name = \"aabbcsddeeffgg\"\n",
    "\n",
    "for ch in name:\n",
    "    if name.count(ch) == 1:\n",
    "        print(ch)\n",
    "        break"
   ]
  },
  {
   "cell_type": "markdown",
   "id": "3adf5669",
   "metadata": {},
   "source": [
    "**19-Write a Python program to remove spaces from a given string**"
   ]
  },
  {
   "cell_type": "code",
   "execution_count": 63,
   "id": "b4f22602",
   "metadata": {},
   "outputs": [
    {
     "data": {
      "text/plain": [
       "'ahmedraafat'"
      ]
     },
     "execution_count": 63,
     "metadata": {},
     "output_type": "execute_result"
    }
   ],
   "source": [
    "name = \"ahmed raafat\"\n",
    "name.replace(\" \",\"\")"
   ]
  },
  {
   "cell_type": "markdown",
   "id": "734de60c",
   "metadata": {},
   "source": [
    "**20-Write a Python program to count the number of non-empty substrings of a given string**"
   ]
  },
  {
   "cell_type": "code",
   "execution_count": 74,
   "id": "ef3f2274",
   "metadata": {},
   "outputs": [],
   "source": [
    "def number_of_substrings(str):\n",
    "    str_len = len(str)\n",
    "    return int(str_len * (str_len + 1) /2)"
   ]
  },
  {
   "cell_type": "code",
   "execution_count": 75,
   "id": "0f9b71f4",
   "metadata": {},
   "outputs": [
    {
     "data": {
      "text/plain": [
       "15"
      ]
     },
     "execution_count": 75,
     "metadata": {},
     "output_type": "execute_result"
    }
   ],
   "source": [
    "number_of_substrings(\"ahmed\")"
   ]
  },
  {
   "cell_type": "markdown",
   "id": "509998e2",
   "metadata": {},
   "source": [
    "**21-write a Python program to swap first and last element of any list.**"
   ]
  },
  {
   "cell_type": "code",
   "execution_count": 80,
   "id": "68692d7f",
   "metadata": {},
   "outputs": [
    {
     "data": {
      "text/plain": [
       "[980, 30, 50, 90, 70, 10, 20]"
      ]
     },
     "execution_count": 80,
     "metadata": {},
     "output_type": "execute_result"
    }
   ],
   "source": [
    "list = [20,30,50,90,70,10,980]\n",
    "\n",
    "temp = list[0]\n",
    "list[0] = list[-1]\n",
    "list[-1] = temp\n",
    "\n",
    "list"
   ]
  },
  {
   "cell_type": "code",
   "execution_count": 83,
   "id": "541480d9",
   "metadata": {},
   "outputs": [
    {
     "data": {
      "text/plain": [
       "[980, 30, 50, 90, 70, 10, 20]"
      ]
     },
     "execution_count": 83,
     "metadata": {},
     "output_type": "execute_result"
    }
   ],
   "source": [
    "list = [20,30,50,90,70,10,980]\n",
    "list[0], list[-1] = list[-1] , list[0]\n",
    "list"
   ]
  },
  {
   "cell_type": "markdown",
   "id": "959e0837",
   "metadata": {},
   "source": [
    "**22-Given a list in Python and provided the positions of the elements, write a program to swap the two elements in the list. (Input : List = [23, 65, 19, 90], pos1 = 1, pos2 = 3\n",
    "Output : [19, 65, 23, 90])**"
   ]
  },
  {
   "cell_type": "code",
   "execution_count": 86,
   "id": "225d8c6d",
   "metadata": {},
   "outputs": [
    {
     "name": "stdout",
     "output_type": "stream",
     "text": [
      "2\n",
      "3\n"
     ]
    },
    {
     "data": {
      "text/plain": [
       "[1, 4, 8, 7]"
      ]
     },
     "execution_count": 86,
     "metadata": {},
     "output_type": "execute_result"
    }
   ],
   "source": [
    "l = [1,4,7,8]\n",
    "\n",
    "pos1 = int(input())\n",
    "pos2 = int(input())\n",
    "\n",
    "l[pos1], l[pos2] = l[pos2], l[pos1]\n",
    "\n",
    "l"
   ]
  },
  {
   "cell_type": "markdown",
   "id": "66fc6682",
   "metadata": {},
   "source": [
    "**23- search for the all ways to know the length of the list**"
   ]
  },
  {
   "cell_type": "code",
   "execution_count": 67,
   "id": "8307e3af",
   "metadata": {},
   "outputs": [
    {
     "name": "stdout",
     "output_type": "stream",
     "text": [
      "please enter any name: ahmed raafat\n",
      "12\n",
      "==============================\n"
     ]
    },
    {
     "data": {
      "text/plain": [
       "12"
      ]
     },
     "execution_count": 67,
     "metadata": {},
     "output_type": "execute_result"
    }
   ],
   "source": [
    "name = input(\"please enter any name: \")\n",
    "print(len(name))\n",
    "\n",
    "print(\"=\"*30)\n",
    "\n",
    "counter = 0\n",
    "\n",
    "for i in name:\n",
    "    counter +=1\n",
    "    \n",
    "counter"
   ]
  },
  {
   "cell_type": "markdown",
   "id": "172620bc",
   "metadata": {},
   "source": [
    "**24-write a Python code to find the Maximum number of list of numbers.**"
   ]
  },
  {
   "cell_type": "code",
   "execution_count": 87,
   "id": "15f342de",
   "metadata": {},
   "outputs": [
    {
     "data": {
      "text/plain": [
       "100"
      ]
     },
     "execution_count": 87,
     "metadata": {},
     "output_type": "execute_result"
    }
   ],
   "source": [
    "max([2,3,4,5,6,7,8,9,10,100])"
   ]
  },
  {
   "cell_type": "markdown",
   "id": "df2ee4b0",
   "metadata": {},
   "source": [
    "**25-write a Python code to find the Minimum number of list of numbers.**"
   ]
  },
  {
   "cell_type": "code",
   "execution_count": 88,
   "id": "21f8cbd6",
   "metadata": {},
   "outputs": [
    {
     "data": {
      "text/plain": [
       "0"
      ]
     },
     "execution_count": 88,
     "metadata": {},
     "output_type": "execute_result"
    }
   ],
   "source": [
    "min([1,2,3,4,5,6,80,90,0])"
   ]
  },
  {
   "cell_type": "markdown",
   "id": "96822d96",
   "metadata": {},
   "source": [
    "**26-search for if an elem is existing in list**"
   ]
  },
  {
   "cell_type": "code",
   "execution_count": 89,
   "id": "51ca5c9a",
   "metadata": {},
   "outputs": [
    {
     "name": "stdout",
     "output_type": "stream",
     "text": [
      "not found\n"
     ]
    }
   ],
   "source": [
    "l = [1,2,3,4,5,6,7,8]\n",
    "\n",
    "if l.count(\"ahmed\") ==0:\n",
    "    print(\"not found\")"
   ]
  },
  {
   "cell_type": "markdown",
   "id": "d9557da7",
   "metadata": {},
   "source": [
    "**27- clear python list using different ways**"
   ]
  },
  {
   "cell_type": "code",
   "execution_count": 90,
   "id": "b69858a3",
   "metadata": {},
   "outputs": [
    {
     "data": {
      "text/plain": [
       "[]"
      ]
     },
     "execution_count": 90,
     "metadata": {},
     "output_type": "execute_result"
    }
   ],
   "source": [
    "l = [1,2,3,4,5,6,7,8,9,10]\n",
    "\n",
    "l.clear()\n",
    "\n",
    "l"
   ]
  },
  {
   "cell_type": "code",
   "execution_count": 92,
   "id": "96d1eef9",
   "metadata": {},
   "outputs": [
    {
     "data": {
      "text/plain": [
       "[]"
      ]
     },
     "execution_count": 92,
     "metadata": {},
     "output_type": "execute_result"
    }
   ],
   "source": [
    "l = [1,2,3,4,5,6]\n",
    "\n",
    "while len(l) != 0:\n",
    "    l.pop()\n",
    "    \n",
    "l"
   ]
  },
  {
   "cell_type": "markdown",
   "id": "52160e88",
   "metadata": {},
   "source": [
    "**28-remove duplicated elements from a list**"
   ]
  },
  {
   "cell_type": "code",
   "execution_count": 97,
   "id": "5e362228",
   "metadata": {},
   "outputs": [
    {
     "data": {
      "text/plain": [
       "{1, 2, 3, 4, 5, 11}"
      ]
     },
     "execution_count": 97,
     "metadata": {},
     "output_type": "execute_result"
    }
   ],
   "source": [
    "l = [1,2,3,1,2,3,4,5,11,1]\n",
    "\n",
    "l = set(l)\n",
    "l\n"
   ]
  },
  {
   "cell_type": "markdown",
   "id": "282337f7",
   "metadata": {},
   "source": [
    "**29-Given list values and keys list, convert these values to key value pairs in form of list of dictionaries. (Input : test_list = [“Gfg”, 3, “is”, 8], key_list = [“name”, “id”]\n",
    "Output : [{‘name’: ‘Gfg’, ‘id’: 3}, {‘name’: ‘is’, ‘id’: 8}])**"
   ]
  },
  {
   "cell_type": "code",
   "execution_count": 81,
   "id": "4d4e2d28",
   "metadata": {},
   "outputs": [
    {
     "name": "stdout",
     "output_type": "stream",
     "text": [
      "The original list :  ['Gfg', 3, 'is', 8, 'Best', 10, 'for', 18, 'Geeks', 33]\n",
      "The constructed dictionary list :  [{'name': 'Gfg', 'number': 3}, {'name': 'is', 'number': 8}, {'name': 'Best', 'number': 10}, {'name': 'for', 'number': 18}, {'name': 'Geeks', 'number': 33}]\n"
     ]
    }
   ],
   "source": [
    "test_list = [\"Gfg\", 3, \"is\", 8, \"Best\", 10, \"for\", 18, \"Geeks\", 33]\n",
    "\n",
    "print(\"The original list : \" ,test_list)\n",
    "\n",
    "key_list = [\"name\", \"number\"]\n",
    "\n",
    "n = len(test_list)\n",
    "res = [{key_list[0]: test_list[idx], key_list[1]: test_list[idx + 1]}\n",
    "       for idx in range(0, n, 2)]\n",
    "\n",
    "\n",
    "print(\"The constructed dictionary list : \" ,res)"
   ]
  },
  {
   "cell_type": "markdown",
   "id": "c26b6e9f",
   "metadata": {},
   "source": [
    "**30-write a python program to count unique values inside a list using different ways**"
   ]
  },
  {
   "cell_type": "code",
   "execution_count": 53,
   "id": "72132667",
   "metadata": {},
   "outputs": [
    {
     "name": "stdout",
     "output_type": "stream",
     "text": [
      "7\n"
     ]
    }
   ],
   "source": [
    "list = [1,1,1,2,3,4,5,6,7,3,4,5,6,7]\n",
    "\n",
    "empty_list = []\n",
    "\n",
    "counter = 0\n",
    "\n",
    "for i in list:\n",
    "    if i not in empty_list:\n",
    "        counter += 1\n",
    "        empty_list.append(i)\n",
    "        \n",
    "print(counter)"
   ]
  },
  {
   "cell_type": "markdown",
   "id": "fed6677c",
   "metadata": {},
   "source": [
    "**31-write a python program Extract all elements with Frequency greater than K (Input : test_list = [4, 6, 4, 3, 3, 4, 3, 4, 3, 8], K = 3 \n",
    "Output : [4, 3] )**"
   ]
  },
  {
   "cell_type": "code",
   "execution_count": 57,
   "id": "d81f3f9d",
   "metadata": {},
   "outputs": [
    {
     "name": "stdout",
     "output_type": "stream",
     "text": [
      "[4, 3]\n"
     ]
    }
   ],
   "source": [
    "test_list = [4, 6, 4, 3, 3, 4, 3, 4, 3, 8]\n",
    "\n",
    "k = 3\n",
    "\n",
    "empty_list = []\n",
    "\n",
    "for i in test_list:\n",
    "    \n",
    "    freq = test_list.count(i)\n",
    "    \n",
    "    if freq > k and i not in empty_list:\n",
    "        empty_list.append(i)\n",
    "        \n",
    "print(empty_list)"
   ]
  },
  {
   "cell_type": "markdown",
   "id": "caca5224",
   "metadata": {},
   "source": [
    "**32-write a python program to find the Strongest Neighbour (Input: 1 2 2 3 4 5\n",
    "Output: 2 2 3 4 5)**"
   ]
  },
  {
   "cell_type": "code",
   "execution_count": 1,
   "id": "39fbd9b2",
   "metadata": {},
   "outputs": [
    {
     "name": "stdout",
     "output_type": "stream",
     "text": [
      "[2, 2, 3, 4, 5]\n"
     ]
    }
   ],
   "source": [
    "list1 = [1,2,2,3,4,5]\n",
    "list2 = []\n",
    "\n",
    "for i in range(1,len(list1)):\n",
    "    r = max(list1[i],list1[i-1])\n",
    "    list2.append(r)\n",
    "    \n",
    "    \n",
    "print(list2)"
   ]
  },
  {
   "cell_type": "markdown",
   "id": "a9fa8baf",
   "metadata": {},
   "source": [
    "**33-write a Python Program to print all Possible Combinations from the three Digits (Input: [1, 2, 3]\n",
    "Output:\n",
    "1 2 3 ##\n",
    "1 3 2 ##\n",
    "2 1 3 ##\n",
    "2 3 1 ##\n",
    "3 1 2 ##\n",
    "3 2 1)**"
   ]
  },
  {
   "cell_type": "code",
   "execution_count": 58,
   "id": "8c520a76",
   "metadata": {},
   "outputs": [
    {
     "name": "stdout",
     "output_type": "stream",
     "text": [
      "please enter number 1 :1\n",
      "please enter number 2 :2\n",
      "please enter number 3 :3\n",
      "1 2 3\n",
      "1 3 2\n",
      "2 1 3\n",
      "2 3 1\n",
      "3 1 2\n",
      "3 2 1\n"
     ]
    }
   ],
   "source": [
    "num1 = int(input(\"please enter number 1 :\"))\n",
    "num2 = int(input(\"please enter number 2 :\"))\n",
    "num3 = int(input(\"please enter number 3 :\"))\n",
    "\n",
    "d = []\n",
    "\n",
    "d.append(num1)\n",
    "d.append(num2)\n",
    "d.append(num3)\n",
    "\n",
    "for i in range(3):\n",
    "    for j in range(3):\n",
    "        for k in range(3):\n",
    "            \n",
    "            if i!=j and j!=k and i!=k:\n",
    "                \n",
    "                print(d[i], d[j], d[k])"
   ]
  },
  {
   "cell_type": "code",
   "execution_count": null,
   "id": "16b22311",
   "metadata": {},
   "outputs": [],
   "source": []
  },
  {
   "cell_type": "markdown",
   "id": "5288bb89",
   "metadata": {},
   "source": [
    "**34-write a Python program to find all the Combinations in the list with the given condition (Input: test_list = [1,2,3] \n",
    "Output: \n",
    " [1], [1, 2], [1, 2, 3], [1, 3]\n",
    " [2], [2, 3], [3])**"
   ]
  },
  {
   "cell_type": "code",
   "execution_count": null,
   "id": "59b89646",
   "metadata": {},
   "outputs": [],
   "source": []
  },
  {
   "cell_type": "markdown",
   "id": "39973705",
   "metadata": {},
   "source": [
    "**35-write a Python program to get all unique combinations of two Lists (List_1 = [\"a\",\"b\"]\n",
    "List_2 = [1,2]\n",
    "Unique_combination = [[('a',1),('b',2)],[('a',2),('b',1)]] )**"
   ]
  },
  {
   "cell_type": "code",
   "execution_count": 68,
   "id": "8c4ba22b",
   "metadata": {},
   "outputs": [
    {
     "name": "stdout",
     "output_type": "stream",
     "text": [
      "[('a', 1), ('a', 2), ('b', 1), ('b', 2)]\n"
     ]
    }
   ],
   "source": [
    "list_1 = [\"a\",\"b\"]\n",
    "list_2 = [1,2]\n",
    " \n",
    "unique_combinations = []\n",
    " \n",
    "for i in range(len(list_1)):\n",
    "    for j in range(len(list_2)):\n",
    "        unique_combinations.append((list_1[i], list_2[j]))\n",
    " \n",
    "print(unique_combinations)"
   ]
  },
  {
   "cell_type": "markdown",
   "id": "25199af5",
   "metadata": {},
   "source": [
    "**36-Remove all the occurrences of an element from a list in Python (Input : 1 1 2 3 4 5 1 2 1**\n",
    "\n",
    "Output : 2 3 4 5 2)"
   ]
  },
  {
   "cell_type": "code",
   "execution_count": 82,
   "id": "6dc4c2ba",
   "metadata": {},
   "outputs": [
    {
     "name": "stdout",
     "output_type": "stream",
     "text": [
      "[2, 3, 4, 5, 2]\n"
     ]
    }
   ],
   "source": [
    "test_list = [1,1,2,3,4,5,1,2,1]\n",
    "\n",
    "ele=1\n",
    "\n",
    "x=[i for i in test_list if i!=ele]\n",
    "\n",
    "print(x)"
   ]
  },
  {
   "cell_type": "markdown",
   "id": "bf1a3c93",
   "metadata": {},
   "source": [
    "**37-write a python program to Replace index elements with elements in Other List (The original list 1 is : [‘Gfg’, ‘is’, ‘best’] The original list 2 is : [0, 1, 2, 1, 0, 0, 0, 2, 1, 1, 2, 0] The lists after index elements replacements is : [‘Gfg’, ‘is’, ‘best’, ‘is’, ‘Gfg’, ‘Gfg’, ‘Gfg’, ‘best’, ‘is’, ‘is’, ‘best’, ‘Gfg’])**"
   ]
  },
  {
   "cell_type": "code",
   "execution_count": 11,
   "id": "fdd66a71",
   "metadata": {
    "scrolled": true
   },
   "outputs": [
    {
     "name": "stdout",
     "output_type": "stream",
     "text": [
      "The original list 1 is : ['Gfg', 'is', 'best']\n",
      "The original list 2 is : [0, 1, 2, 1, 0, 0, 0, 2, 1, 1, 2, 0]\n",
      "The lists after index elements replacements is : ['Gfg', 'is', 'best', 'is', 'Gfg', 'Gfg', 'Gfg', 'best', 'is', 'is', 'best', 'Gfg']\n"
     ]
    }
   ],
   "source": [
    "test_list1 = ['Gfg', 'is', 'best']\n",
    "test_list2 = [0, 1, 2, 1, 0, 0, 0, 2, 1, 1, 2, 0]\n",
    " \n",
    "print(\"The original list 1 is : \" + str(test_list1))\n",
    "print(\"The original list 2 is : \" + str(test_list2))\n",
    "\n",
    "res = [test_list1[idx] for idx in test_list2]\n",
    "\n",
    "print (\"The lists after index elements replacements is : \" + str(res))"
   ]
  },
  {
   "cell_type": "markdown",
   "id": "af0f56e8",
   "metadata": {},
   "source": [
    "**38- write python program to Retain records with N occurrences of K(Input : test_list = [(4, 5, 5, 4), (5, 4, 3)], K = 5, N = 2 \n",
    "Output : [(4, 5, 5, 4)]\n",
    "Input : test_list = [(4, 5, 5, 4), (5, 4, 3)], K = 5, N = 3 \n",
    "Output : [] )**"
   ]
  },
  {
   "cell_type": "code",
   "execution_count": 80,
   "id": "67b06671",
   "metadata": {},
   "outputs": [
    {
     "name": "stdout",
     "output_type": "stream",
     "text": [
      "The original list is :  [(4, 5, 6, 4, 4), (4, 4, 3), (4, 4, 4), (3, 4, 9)]\n",
      "Filtered tuples :  [(4, 5, 6, 4, 4), (4, 4, 4)]\n"
     ]
    }
   ],
   "source": [
    "test_list = [(4, 5, 6, 4, 4), (4, 4, 3), (4, 4, 4), (3, 4, 9)]\n",
    "\n",
    "print(\"The original list is : \" , test_list)\n",
    "\n",
    "K = 4\n",
    "\n",
    "N = 3\n",
    "\n",
    "res = [ele for ele in test_list if ele.count(K) == N]\n",
    "\n",
    "print(\"Filtered tuples : \" ,res)"
   ]
  },
  {
   "cell_type": "markdown",
   "id": "de76f183",
   "metadata": {},
   "source": [
    "**39-write a Python Program to Sort the list according to the column using lambda\n",
    "array = [[1, 3, 3], [2, 1, 2], [3, 2, 1]]\n",
    "Output :\n",
    "Sorted array specific to column 0, [[1, 3, 3], [2, 1, 2], [3, 2, 1]]\n",
    "Sorted array specific to column 1, [[2, 1, 2], [3, 2, 1], [1, 3, 3]]\n",
    "Sorted array specific to column 2, [[3, 2, 1], [2, 1, 2], [1, 3, 3]]**"
   ]
  },
  {
   "cell_type": "code",
   "execution_count": 10,
   "id": "dc883308",
   "metadata": {},
   "outputs": [
    {
     "name": "stdout",
     "output_type": "stream",
     "text": [
      "Original list:\n",
      "[[2], [0], [1, 3], [0, 7], [9, 11], [13, 15, 17]]\n",
      "\n",
      "Sort the list of lists by length and value:\n",
      "[[0], [2], [0, 7], [1, 3], [9, 11], [13, 15, 17]]\n"
     ]
    }
   ],
   "source": []
  },
  {
   "cell_type": "markdown",
   "id": "9c3e2c8a",
   "metadata": {},
   "source": [
    "**40- write a program to Sort Python Dictionaries by Key or Value\n",
    "Input:\n",
    "{'ravi': 10, 'rajnish': 9, 'sanjeev': 15, 'yash': 2, 'suraj': 32}**\n",
    "\n",
    "Output: \n",
    "{'rajnish': 9, 'ravi': 10, 'sanjeev': 15, 'suraj': 32, 'yash': 2}"
   ]
  },
  {
   "cell_type": "code",
   "execution_count": 2,
   "id": "a96db4a0",
   "metadata": {},
   "outputs": [
    {
     "name": "stdout",
     "output_type": "stream",
     "text": [
      "{'rajnish': 9, 'ravi': 10, 'sanjeev': 15, 'suraj': 32, 'yash': 2}\n"
     ]
    }
   ],
   "source": [
    "myDict = {'ravi': 10, 'rajnish': 9,\n",
    "        'sanjeev': 15, 'yash': 2, 'suraj': 32}\n",
    " \n",
    "myKeys = list(myDict.keys())\n",
    "myKeys.sort()\n",
    "sorted_dict = {i: myDict[i] for i in myKeys}\n",
    " \n",
    "print(sorted_dict)"
   ]
  },
  {
   "cell_type": "markdown",
   "id": "ec63c23a",
   "metadata": {},
   "source": [
    "**41-write python program to Remove keys with Values Greater than K ( Including mixed values )\n",
    "nput : test_dict = {‘Gfg’ : 3, ‘is’ : 7, ‘best’ : 10, ‘for’ : 6, ‘geeks’ : ‘CS’},\n",
    "K = 7 \n",
    "Output : {‘Gfg’ : 3, ‘for’ : 6, ‘geeks’ : ‘CS’}**"
   ]
  },
  {
   "cell_type": "code",
   "execution_count": 9,
   "id": "e39c3a40",
   "metadata": {},
   "outputs": [
    {
     "name": "stdout",
     "output_type": "stream",
     "text": [
      "The original dictionary is : {'Gfg': 3, 'is': 7, 'best': 10, 'for': 6, 'geeks': 'CS'}\n",
      "The constructed dictionary : {'Gfg': 3, 'for': 6, 'geeks': 'CS'}\n"
     ]
    }
   ],
   "source": [
    "test_dict = {'Gfg' : 3, 'is' : 7, 'best' : 10, 'for' : 6, 'geeks' : 'CS'}\n",
    " \n",
    "print(\"The original dictionary is : \" + str(test_dict))\n",
    "\n",
    "K = 6\n",
    "\n",
    "res = {}\n",
    "for key in test_dict:\n",
    "   \n",
    "    if not (isinstance(test_dict[key], int) and test_dict[key] > K):\n",
    "        res[key] = test_dict[key]\n",
    "         \n",
    "print(\"The constructed dictionary : \" + str(res))"
   ]
  },
  {
   "cell_type": "markdown",
   "id": "f143f0fe",
   "metadata": {},
   "source": [
    "**42-Write a Python program to concatenate the following dictionaries to create a new one**\n",
    "\n",
    "Sample Dictionary :\n",
    "dic1={1:10, 2:20}\n",
    "dic2={3:30, 4:40}\n",
    "dic3={5:50,6:60}\n",
    "Expected Result : {1: 10, 2: 20, 3: 30, 4: 40, 5: 50, 6: 60}"
   ]
  },
  {
   "cell_type": "code",
   "execution_count": 4,
   "id": "74ffdfea",
   "metadata": {},
   "outputs": [
    {
     "name": "stdout",
     "output_type": "stream",
     "text": [
      "{1: 10, 2: 20, 3: 30, 4: 40, 5: 50, 6: 60}\n"
     ]
    }
   ],
   "source": [
    "dic1={1:10, 2:20}\n",
    "dic2={3:30, 4:40}\n",
    "dic3={5:50,6:60}\n",
    "dic4 = {}\n",
    "for d in (dic1, dic2, dic3): \n",
    "    dic4.update(d)\n",
    "    \n",
    "print(dic4)"
   ]
  },
  {
   "cell_type": "markdown",
   "id": "fb04c93c",
   "metadata": {},
   "source": [
    "**43-Write a Python program to iterate over dictionaries using for loops**"
   ]
  },
  {
   "cell_type": "code",
   "execution_count": 66,
   "id": "6aebc470",
   "metadata": {},
   "outputs": [
    {
     "name": "stdout",
     "output_type": "stream",
     "text": [
      "name ahmed\n",
      "age 21\n",
      "country egypt\n",
      "gender male\n"
     ]
    }
   ],
   "source": [
    "mydict = {\n",
    "    \"name\":\"ahmed\",\n",
    "    \"age\":21,\n",
    "    \"country\":\"egypt\",\n",
    "    \"gender\":\"male\"\n",
    "}\n",
    "\n",
    "for key in mydict:\n",
    "    print(key, mydict[key])"
   ]
  },
  {
   "cell_type": "markdown",
   "id": "5f491a9d",
   "metadata": {},
   "source": [
    "**44- Write a Python script to merge two Python dictionaries**"
   ]
  },
  {
   "cell_type": "code",
   "execution_count": 59,
   "id": "b8a14028",
   "metadata": {},
   "outputs": [
    {
     "data": {
      "text/plain": [
       "{'a': 100, 'b': 200, 'c': 300, 'd': 400, 'e': 500, 'f': 600}"
      ]
     },
     "execution_count": 59,
     "metadata": {},
     "output_type": "execute_result"
    }
   ],
   "source": [
    "dict1 = {\"a\":100,\n",
    "         \"b\":200,\n",
    "         \"c\":300\n",
    "        }\n",
    "\n",
    "dict2 = {\n",
    "    \"d\":400,\n",
    "    \"e\":500,\n",
    "    \"f\":600\n",
    "}\n",
    "\n",
    "dict3 = dict1.copy()\n",
    "dict3.update(dict2)\n",
    "\n",
    "dict3"
   ]
  },
  {
   "cell_type": "markdown",
   "id": "216fc72d",
   "metadata": {},
   "source": [
    "**45-Write a Python program to get the maximum and minimum values of a dictionary values**"
   ]
  },
  {
   "cell_type": "code",
   "execution_count": 19,
   "id": "d6883f5f",
   "metadata": {},
   "outputs": [
    {
     "name": "stdout",
     "output_type": "stream",
     "text": [
      "c3\n",
      "==============================\n",
      "c1\n"
     ]
    }
   ],
   "source": [
    "dict = {'c1':5 , 'c2': 6 , 'c3' : 100}\n",
    "\n",
    "print(max(dict))\n",
    "\n",
    "print(\"=\"*30)\n",
    "\n",
    "print(min(dict))"
   ]
  },
  {
   "cell_type": "markdown",
   "id": "b6a53011",
   "metadata": {},
   "source": [
    "**46- Write a Python program to drop empty items from a given dictionary.\n",
    "Original Dictionary:\n",
    "{'c1': 'Red', 'c2': 'Green', 'c3': None}\n",
    "New Dictionary after dropping empty items:\n",
    "{'c1': 'Red', 'c2': 'Green'}**"
   ]
  },
  {
   "cell_type": "code",
   "execution_count": 60,
   "id": "b5c6fecf",
   "metadata": {},
   "outputs": [
    {
     "data": {
      "text/plain": [
       "{'c1': 'Red', 'c2': 'Green'}"
      ]
     },
     "execution_count": 60,
     "metadata": {},
     "output_type": "execute_result"
    }
   ],
   "source": [
    "dict = {'c1': 'Red', 'c2': 'Green', 'c3': None}\n",
    "\n",
    "dict.pop('c3')\n",
    "\n",
    "dict"
   ]
  },
  {
   "cell_type": "markdown",
   "id": "46d718c7",
   "metadata": {},
   "source": [
    "**47-Write a Python program to create a tuple of numbers and print one item**"
   ]
  },
  {
   "cell_type": "code",
   "execution_count": 24,
   "id": "13216ff5",
   "metadata": {},
   "outputs": [
    {
     "name": "stdout",
     "output_type": "stream",
     "text": [
      "1\n"
     ]
    }
   ],
   "source": [
    "mytuple = (1,2,3,4,5)\n",
    "print(mytuple[0])"
   ]
  },
  {
   "cell_type": "markdown",
   "id": "2be5b56b",
   "metadata": {},
   "source": [
    "**48-Write a Python program to unpack a tuple into several variables**"
   ]
  },
  {
   "cell_type": "code",
   "execution_count": 34,
   "id": "595f44be",
   "metadata": {},
   "outputs": [
    {
     "name": "stdout",
     "output_type": "stream",
     "text": [
      "cairo university\n",
      "5000\n",
      "software engineering\n"
     ]
    }
   ],
   "source": [
    "tuple1 = (\"cairo university\", 5000, \"software engineering\")\n",
    "\n",
    "(college, students, type_of_colloge) = tuple1\n",
    "\n",
    "print(college)\n",
    "print(students)\n",
    "print(type_of_colloge)"
   ]
  },
  {
   "cell_type": "markdown",
   "id": "392388a7",
   "metadata": {},
   "source": [
    "**49-Write a Python program to add an item to a tuple**"
   ]
  },
  {
   "cell_type": "code",
   "execution_count": 25,
   "id": "54cc092e",
   "metadata": {},
   "outputs": [
    {
     "name": "stdout",
     "output_type": "stream",
     "text": [
      "(1, 2, 3, 4, 5, 6, 7, 8)\n"
     ]
    }
   ],
   "source": [
    "a = (1,2,3,4)\n",
    "b = (5,6,7,8)\n",
    "\n",
    "c = a + b\n",
    "\n",
    "print(c)"
   ]
  },
  {
   "cell_type": "markdown",
   "id": "3e8fd124",
   "metadata": {},
   "source": [
    "**50-Write a Python program to convert a tuple to a string**"
   ]
  },
  {
   "cell_type": "code",
   "execution_count": 33,
   "id": "92a71ddc",
   "metadata": {},
   "outputs": [
    {
     "data": {
      "text/plain": [
       "'ahmed mohamed malik'"
      ]
     },
     "execution_count": 33,
     "metadata": {},
     "output_type": "execute_result"
    }
   ],
   "source": [
    "mytuple = (\"ahmed\", \"mohamed\", \"malik\")\n",
    "\n",
    "str = \" \".join(mytuple)\n",
    "\n",
    "str"
   ]
  },
  {
   "cell_type": "markdown",
   "id": "f4f64ef4",
   "metadata": {},
   "source": [
    "**51-Write a Python program to convert a list to a tuple**"
   ]
  },
  {
   "cell_type": "code",
   "execution_count": 5,
   "id": "210d56d3",
   "metadata": {
    "scrolled": true
   },
   "outputs": [
    {
     "name": "stdout",
     "output_type": "stream",
     "text": [
      "('Meredith', 'Kristen', 'Wright', 'Franklin')\n",
      "<class 'tuple'>\n"
     ]
    }
   ],
   "source": [
    "list_names=['Meredith', 'Kristen', 'Wright', 'Franklin']\n",
    "tuple_names= tuple(list_names)\n",
    "print(tuple_names)\n",
    "print(type(tuple_names))"
   ]
  },
  {
   "cell_type": "markdown",
   "id": "b1e00ef7",
   "metadata": {},
   "source": [
    "**52-Write a Python program to reverse a tuple**"
   ]
  },
  {
   "cell_type": "code",
   "execution_count": 2,
   "id": "f45bfdc7",
   "metadata": {},
   "outputs": [
    {
     "name": "stdout",
     "output_type": "stream",
     "text": [
      "(10, 9, 8, 7, 6, 5, 4, 3, 2, 1)\n"
     ]
    }
   ],
   "source": [
    "tuple = (1,2,3,4,5,6,7,8,9,10)\n",
    "new_tuple = tuple[::-1]\n",
    "print(new_tuple)"
   ]
  },
  {
   "cell_type": "markdown",
   "id": "3cd347d1",
   "metadata": {},
   "source": [
    "**53-Write a Python program to replace the last value of tuples in a list.\n",
    "Sample list: [(10, 20, 40), (40, 50, 60), (70, 80, 90)]\n",
    "Expected Output: [(10, 20, 100), (40, 50, 100), (70, 80, 100)]**"
   ]
  },
  {
   "cell_type": "code",
   "execution_count": 48,
   "id": "3c4a2a4c",
   "metadata": {
    "scrolled": true
   },
   "outputs": [
    {
     "name": "stdout",
     "output_type": "stream",
     "text": [
      "[(10, 20, 10), (40, 50, 10), (70, 80, 10)]\n"
     ]
    }
   ],
   "source": [
    "list = [(10, 20, 40), (40, 50, 60), (70, 80, 90)]\n",
    "\n",
    "print([t[:-1] + (10,) for t in list])"
   ]
  },
  {
   "cell_type": "markdown",
   "id": "76bb7b39",
   "metadata": {},
   "source": [
    "**54-Write a Python program to convert a given string list to a tuple\n",
    "Original string: python 3.0\n",
    "<class 'str'>\n",
    "Convert the said string to a tuple:\n",
    "('p', 'y', 't', 'h', 'o', 'n', '3', '.', '0')**"
   ]
  },
  {
   "cell_type": "code",
   "execution_count": 8,
   "id": "51951937",
   "metadata": {},
   "outputs": [
    {
     "name": "stdout",
     "output_type": "stream",
     "text": [
      "Original string:\n",
      "python 3.0\n",
      "<class 'str'>\n",
      "Convert the said string to a tuple:\n",
      "('p', 'y', 't', 'h', 'o', 'n', '3', '.', '0')\n",
      "<class 'tuple'>\n"
     ]
    }
   ],
   "source": [
    "def string_list_to_tuple(str1):\n",
    "    result = tuple(x for x in str1 if not x.isspace()) \n",
    "    return result\n",
    "str1 = \"python 3.0\"\n",
    "print(\"Original string:\")\n",
    "print(str1)\n",
    "print(type(str1))\n",
    "print(\"Convert the said string to a tuple:\") \n",
    "print(string_list_to_tuple(str1))\n",
    "print(type(string_list_to_tuple(str1)))"
   ]
  },
  {
   "cell_type": "markdown",
   "id": "5a1d5d97",
   "metadata": {},
   "source": [
    "**55-Write a Python program to calculate the average value of the numbers in a given tuple of tuples**"
   ]
  },
  {
   "cell_type": "code",
   "execution_count": 7,
   "id": "834e7992",
   "metadata": {},
   "outputs": [
    {
     "name": "stdout",
     "output_type": "stream",
     "text": [
      "The original list is : [(1, 4, 5), (7, 8), (2, 4, 10)]\n",
      "The average of tuple list is : 13.666666666666666\n"
     ]
    }
   ],
   "source": [
    "test_list = [(1, 4, 5), (7, 8), (2, 4, 10)]\n",
    " \n",
    "print(\"The original list is : \" + str(test_list))\n",
    "\n",
    "sum = 0\n",
    "for sub in test_list:\n",
    "    for i in sub:\n",
    "        sum = sum + i\n",
    "res = sum / len(test_list)\n",
    " \n",
    "print(\"The average of tuple list is : \" + str(res))"
   ]
  },
  {
   "cell_type": "markdown",
   "id": "51edab9c",
   "metadata": {},
   "source": [
    "**56-Write a Python program to add member(s) to a set.**"
   ]
  },
  {
   "cell_type": "code",
   "execution_count": 103,
   "id": "2b65df79",
   "metadata": {},
   "outputs": [
    {
     "data": {
      "text/plain": [
       "{1, 2, 3, 4, 5}"
      ]
     },
     "execution_count": 103,
     "metadata": {},
     "output_type": "execute_result"
    }
   ],
   "source": [
    "set = {2,3,4,5}\n",
    "set.add(1)\n",
    "set"
   ]
  },
  {
   "cell_type": "markdown",
   "id": "965590cc",
   "metadata": {},
   "source": [
    "**57-Write a Python program to remove an item from a set if it is present in the set.**"
   ]
  },
  {
   "cell_type": "code",
   "execution_count": 102,
   "id": "866bab28",
   "metadata": {},
   "outputs": [
    {
     "data": {
      "text/plain": [
       "{1, 2, 4, 5}"
      ]
     },
     "execution_count": 102,
     "metadata": {},
     "output_type": "execute_result"
    }
   ],
   "source": [
    "set = {1,2,3,4,5}\n",
    "set.remove(3)\n",
    "set"
   ]
  },
  {
   "cell_type": "markdown",
   "id": "2b7cfed1",
   "metadata": {},
   "source": [
    "**58-Write a Python program to create an intersection,union,difference and symmetric difference of sets**"
   ]
  },
  {
   "cell_type": "code",
   "execution_count": 64,
   "id": "7f94b7fe",
   "metadata": {},
   "outputs": [
    {
     "name": "stdout",
     "output_type": "stream",
     "text": [
      "union :  {0, 1, 2, 3, 4, 5, 6, 8}\n",
      "intersection :  {2, 4}\n",
      "difference :  {0, 8, 6}\n",
      "symmetric difference :  {0, 1, 3, 5, 6, 8}\n"
     ]
    }
   ],
   "source": [
    "A = {0, 2, 4, 6, 8}\n",
    "B = {1, 2, 3, 4, 5}\n",
    "\n",
    "print(\"union : \", A|B)\n",
    "\n",
    "print(\"intersection : \", A&B)\n",
    "\n",
    "print(\"difference : \", A-B)\n",
    "\n",
    "print(\"symmetric difference : \", A^B)"
   ]
  },
  {
   "cell_type": "markdown",
   "id": "b94931e2",
   "metadata": {},
   "source": [
    "**59-Write a Python program to find the maximum and minimum values in a set**"
   ]
  },
  {
   "cell_type": "code",
   "execution_count": 100,
   "id": "203f9600",
   "metadata": {},
   "outputs": [
    {
     "name": "stdout",
     "output_type": "stream",
     "text": [
      "6\n"
     ]
    },
    {
     "data": {
      "text/plain": [
       "0"
      ]
     },
     "execution_count": 100,
     "metadata": {},
     "output_type": "execute_result"
    }
   ],
   "source": [
    "print(max({1,2,3,4,5,6}))\n",
    "min({1,2,3,4,5,6,0})"
   ]
  },
  {
   "cell_type": "markdown",
   "id": "255fd554",
   "metadata": {},
   "source": [
    "**60- Write a Python program that finds all pairs of elements in a list whose sum is equal to a given value.**"
   ]
  },
  {
   "cell_type": "code",
   "execution_count": 5,
   "id": "c2d94e1f",
   "metadata": {},
   "outputs": [
    {
     "name": "stdout",
     "output_type": "stream",
     "text": [
      "[(2, 10), (3, 9), (4, 8), (5, 7)]\n"
     ]
    }
   ],
   "source": [
    "list1 = [1,2,3,4,5,6,7,8,9,10]\n",
    "target = 12\n",
    "\n",
    "new_list = []\n",
    "\n",
    "for i in range(len(list1)):\n",
    "    for j in range(i+1, len(list1)):\n",
    "        if list1[i] + list1[j] == target:\n",
    "            new_list.append((list1[i], list1[j]))\n",
    "            \n",
    "            \n",
    "print(new_list)"
   ]
  },
  {
   "cell_type": "code",
   "execution_count": null,
   "id": "2b15b222",
   "metadata": {},
   "outputs": [],
   "source": []
  }
 ],
 "metadata": {
  "kernelspec": {
   "display_name": "Python 3 (ipykernel)",
   "language": "python",
   "name": "python3"
  },
  "language_info": {
   "codemirror_mode": {
    "name": "ipython",
    "version": 3
   },
   "file_extension": ".py",
   "mimetype": "text/x-python",
   "name": "python",
   "nbconvert_exporter": "python",
   "pygments_lexer": "ipython3",
   "version": "3.10.9"
  }
 },
 "nbformat": 4,
 "nbformat_minor": 5
}
