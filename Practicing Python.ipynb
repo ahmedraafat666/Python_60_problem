{
 "cells": [
  {
   "cell_type": "markdown",
   "id": "620084a7",
   "metadata": {},
   "source": [
    "### 1-Write a Python program that takes two numbers as user input and performs addition on them."
   ]
  },
  {
   "cell_type": "code",
   "execution_count": 1,
   "id": "c0a23c87",
   "metadata": {},
   "outputs": [
    {
     "name": "stdout",
     "output_type": "stream",
     "text": [
      "please enter number1 :5\n",
      "please enter number2 :6\n"
     ]
    },
    {
     "data": {
      "text/plain": [
       "11"
      ]
     },
     "execution_count": 1,
     "metadata": {},
     "output_type": "execute_result"
    }
   ],
   "source": [
    "num1 = int(input(\"please enter number1 :\"))\n",
    "num2 = int(input(\"please enter number2 :\"))\n",
    "\n",
    "num1 + num2"
   ]
  },
  {
   "cell_type": "markdown",
   "id": "1864e2a6",
   "metadata": {},
   "source": [
    "### 2-Write a Python program that takes an integer as input and checks if it is even or odd. Print \"Even\" if the number is divisible by 2, otherwise print \"Odd\"."
   ]
  },
  {
   "cell_type": "code",
   "execution_count": 2,
   "id": "504b92b5",
   "metadata": {},
   "outputs": [
    {
     "name": "stdout",
     "output_type": "stream",
     "text": [
      "please enter a number: 88\n",
      "88 is even\n"
     ]
    }
   ],
   "source": [
    "number = int(input(\"please enter a number: \"))\n",
    "\n",
    "if number % 2 == 0:\n",
    "    print(f\"{number} is even\")\n",
    "else:\n",
    "    print(f\"{number} is odd\")"
   ]
  },
  {
   "cell_type": "markdown",
   "id": "8c113626",
   "metadata": {},
   "source": [
    "### 3-Write a Python program that prints all the even numbers from 1 to 20 using a for loop"
   ]
  },
  {
   "cell_type": "code",
   "execution_count": 3,
   "id": "7291b91a",
   "metadata": {},
   "outputs": [
    {
     "name": "stdout",
     "output_type": "stream",
     "text": [
      "2\n",
      "4\n",
      "6\n",
      "8\n",
      "10\n",
      "12\n",
      "14\n",
      "16\n",
      "18\n"
     ]
    }
   ],
   "source": [
    "for number in range(1, 20):\n",
    "    if number % 2 == 0:\n",
    "        print(number)"
   ]
  },
  {
   "cell_type": "markdown",
   "id": "d4db64df",
   "metadata": {},
   "source": [
    "### 4-Write a Python function that takes a string as input and counts the number of vowels (a, e, i, o, u) in the string. The function should return the count"
   ]
  },
  {
   "cell_type": "code",
   "execution_count": 4,
   "id": "bd9b758c",
   "metadata": {},
   "outputs": [],
   "source": [
    "def count_vowels(str):\n",
    "    \n",
    "    vowels = 'aeiouAEIOU'\n",
    "    \n",
    "    counter = 0\n",
    "    \n",
    "    for char in str:\n",
    "        \n",
    "        if char in vowels:\n",
    "            \n",
    "            counter += 1\n",
    "            \n",
    "    return counter"
   ]
  },
  {
   "cell_type": "code",
   "execution_count": 5,
   "id": "14dc4a26",
   "metadata": {},
   "outputs": [
    {
     "data": {
      "text/plain": [
       "0"
      ]
     },
     "execution_count": 5,
     "metadata": {},
     "output_type": "execute_result"
    }
   ],
   "source": [
    "count_vowels(\"qwqw\")"
   ]
  },
  {
   "cell_type": "markdown",
   "id": "9d8e01d5",
   "metadata": {},
   "source": [
    "### 5-Write a Python program that creates a list of numbers from 1 to 10. Use a loop to iterate over the list and print each number of power 2."
   ]
  },
  {
   "cell_type": "code",
   "execution_count": 6,
   "id": "7b4be1a4",
   "metadata": {},
   "outputs": [
    {
     "name": "stdout",
     "output_type": "stream",
     "text": [
      "1\n",
      "4\n",
      "9\n",
      "16\n",
      "25\n",
      "36\n",
      "49\n",
      "64\n",
      "81\n",
      "100\n"
     ]
    }
   ],
   "source": [
    "list = [1,2,3,4,5,6,7,8,9,10]\n",
    "\n",
    "for number in list:\n",
    "    print(number ** 2)"
   ]
  },
  {
   "cell_type": "markdown",
   "id": "294a1e6a",
   "metadata": {},
   "source": [
    "### 6-Write a Python program that calculates the average grade for a student based on their scores in different subjects. The program should include the following steps:\n",
    "\n",
    "#### 1-Create variables to store the student's name, subject names, and corresponding scores. Initialize the variables with sample data.\n",
    "\n",
    "#### 2-Prompt the user to enter the student's name and assign it to the name variable.\n",
    "\n",
    "#### 3-Use a loop to prompt the user to enter the subject names and corresponding scores. Store the subject names in a list and the scores in another list.\n",
    "\n",
    "#### 4-After collecting the scores, calculate the average grade by summing up all the scores and dividing by the total number of subjects.\n",
    "\n",
    "#### 5-Check if the average grade is above a 70, print a congratulatory message. Otherwise, print an encouragement message."
   ]
  },
  {
   "cell_type": "code",
   "execution_count": 7,
   "id": "552336f9",
   "metadata": {},
   "outputs": [
    {
     "name": "stdout",
     "output_type": "stream",
     "text": [
      "Enter your nameahmed\n",
      "Enter the score of the subject English80\n",
      "Enter the score of the subject Arabic90\n",
      "Enter the score of the subject Math100\n",
      "90.0\n",
      "Congratulations\n"
     ]
    }
   ],
   "source": [
    "student_name = input('Enter your name')\n",
    "student_subjects= ['English' , 'Arabic' , 'Math']\n",
    "\n",
    "subject_scores = []\n",
    "\n",
    "for subject in student_subjects:\n",
    "    \n",
    "    score = float(input(f'Enter the score of the subject {subject}'))\n",
    "    \n",
    "    subject_scores.append(score)\n",
    "    \n",
    "average_grade = sum(subject_scores) / len(subject_scores)\n",
    "\n",
    "print(average_grade)\n",
    "\n",
    "if average_grade > 70:\n",
    "    print('Congratulations')\n",
    "else:\n",
    "    print('failled')"
   ]
  },
  {
   "cell_type": "markdown",
   "id": "1f49ee57",
   "metadata": {},
   "source": [
    "#### 7-Find Common Elements\n",
    "### Write a Python function that takes two lists as input and returns a new list containing the common elements present in both lists."
   ]
  },
  {
   "cell_type": "code",
   "execution_count": 8,
   "id": "7f56dba1",
   "metadata": {},
   "outputs": [],
   "source": [
    "def comman_list(list1, list2):\n",
    "    list3 = []\n",
    "    \n",
    "    for element in list1:\n",
    "        \n",
    "        if element in list2:\n",
    "            \n",
    "            list3.append(element)\n",
    "            \n",
    "    return list3"
   ]
  },
  {
   "cell_type": "code",
   "execution_count": 9,
   "id": "b28a3c78",
   "metadata": {},
   "outputs": [
    {
     "data": {
      "text/plain": [
       "[1, 2, 5, 6]"
      ]
     },
     "execution_count": 9,
     "metadata": {},
     "output_type": "execute_result"
    }
   ],
   "source": [
    "comman_list([1,2,3,4,5,6],[55,6,9,6,1,2,34,5])"
   ]
  },
  {
   "cell_type": "markdown",
   "id": "795634c6",
   "metadata": {},
   "source": [
    "### 8-Write a Python function that takes a list of numbers and an element to remove from the list. "
   ]
  },
  {
   "cell_type": "code",
   "execution_count": 10,
   "id": "6ab189f5",
   "metadata": {},
   "outputs": [],
   "source": [
    "def removal_element(list, element):\n",
    "    \n",
    "    for i in list:\n",
    "        if element in list:\n",
    "            \n",
    "            print(i)\n",
    "            list.remove(i)\n",
    "    return list"
   ]
  },
  {
   "cell_type": "code",
   "execution_count": 11,
   "id": "54592933",
   "metadata": {},
   "outputs": [
    {
     "name": "stdout",
     "output_type": "stream",
     "text": [
      "1\n",
      "3\n",
      "5\n"
     ]
    },
    {
     "data": {
      "text/plain": [
       "[2, 4, 6]"
      ]
     },
     "execution_count": 11,
     "metadata": {},
     "output_type": "execute_result"
    }
   ],
   "source": [
    "removal_element([1,2,3,4,5,6],4)"
   ]
  },
  {
   "cell_type": "markdown",
   "id": "972192a1",
   "metadata": {},
   "source": [
    "### 9-Given 4 numbers A, B, C and D. Print the last 2 digits from their Multiplication.\n",
    "### Example :\n",
    "### the Multiplication of 4 numbers is 5 * 7 * 2 * 4 = 280 so the answer will be the last 2 digits which are 80."
   ]
  },
  {
   "cell_type": "code",
   "execution_count": 12,
   "id": "28bdf387",
   "metadata": {},
   "outputs": [
    {
     "name": "stdout",
     "output_type": "stream",
     "text": [
      "please enter first number: 5\n",
      "please enter second number: 55\n",
      "please enter third number: 100\n",
      "please enter fourth number: 200\n",
      "5500000\n"
     ]
    }
   ],
   "source": [
    "num1 = int(input(\"please enter first number: \"))\n",
    "num2 = int(input(\"please enter second number: \"))\n",
    "num3 = int(input(\"please enter third number: \"))\n",
    "num4 = int(input(\"please enter fourth number: \"))\n",
    "\n",
    "multi = num1 * num2 * num3 * num4\n",
    "\n",
    "print(multi)"
   ]
  },
  {
   "cell_type": "markdown",
   "id": "02da0765",
   "metadata": {},
   "source": [
    "### 10- Given a number X. Determine if the number is prime or not\n"
   ]
  },
  {
   "cell_type": "code",
   "execution_count": 24,
   "id": "eb6189fc",
   "metadata": {},
   "outputs": [
    {
     "name": "stdout",
     "output_type": "stream",
     "text": [
      "please enter number : 6\n",
      "6 is not a prime number\n"
     ]
    }
   ],
   "source": [
    "number = int(input(\"please enter number : \"))\n",
    "\n",
    "if number <= 1:\n",
    "    print(f\"{number} is not a prime number\")\n",
    "else:\n",
    "    for i in range (2, number):\n",
    "        if number % i == 0:\n",
    "            print(f\"{number} is not a prime number\")\n",
    "            break\n",
    "        else:\n",
    "            print(f\"{number} is a prime number\")"
   ]
  },
  {
   "cell_type": "markdown",
   "id": "a6523b0a",
   "metadata": {},
   "source": [
    "### 11- Given a number N and a list A of N numbers. Determine if the number X exists in array A or not and print its position (0-index)."
   ]
  },
  {
   "cell_type": "code",
   "execution_count": 29,
   "id": "408ee2fa",
   "metadata": {},
   "outputs": [
    {
     "name": "stdout",
     "output_type": "stream",
     "text": [
      "2 is exist and it's postion is 2\n"
     ]
    }
   ],
   "source": [
    "list = [1,2,3,4,5,6,7,8,9,10]\n",
    "number = 2\n",
    "\n",
    "for i in list:\n",
    "    if number == i:\n",
    "        print(f\"{number} is exist and it's postion is {list.index(i)+1}\")\n",
    "        break\n",
    "        \n",
    "else:\n",
    "    print(\"the number does not exist\")"
   ]
  },
  {
   "cell_type": "markdown",
   "id": "8f6014b5",
   "metadata": {},
   "source": [
    "### 12- Given a number N and a list A of N numbers. Determine if the array is lucky or not.\n",
    "\n",
    "#### Note: the list is lucky if the frequency (number of occurrence) of the minimum element is odd."
   ]
  },
  {
   "cell_type": "code",
   "execution_count": 31,
   "id": "6b947f72",
   "metadata": {},
   "outputs": [
    {
     "name": "stdout",
     "output_type": "stream",
     "text": [
      "lucky\n"
     ]
    }
   ],
   "source": [
    "l = [5,2,6,8,7,6,0,1]\n",
    "\n",
    "minimum = l[0]\n",
    "\n",
    "counter = 0\n",
    "\n",
    "for i in l:\n",
    "    if i < minimum:\n",
    "        minimum = i\n",
    "        \n",
    "for i in l:\n",
    "    \n",
    "    if i == minimum:\n",
    "        \n",
    "        counter += 1\n",
    "\n",
    "if counter % 2 !=0:\n",
    "    print('lucky')\n",
    "else:\n",
    "    print('unlucky')"
   ]
  },
  {
   "cell_type": "markdown",
   "id": "cb2d2361",
   "metadata": {},
   "source": [
    "### 13-Given a number N and a list A of N numbers. Print the array after doing the following operations:\n",
    "\n",
    "#### Find minimum number in these numbers.\n",
    "#### Find maximum number in these numbers.\n",
    "##### Swap minimum number with maximum number."
   ]
  },
  {
   "cell_type": "code",
   "execution_count": 37,
   "id": "50d1510e",
   "metadata": {},
   "outputs": [],
   "source": [
    "list = [1,2,3,4,5,6,100,151,20,9090]\n",
    "\n",
    "max1 = max(list)\n",
    "min1 = min(list)\n",
    "\n",
    "index1 = list.index(max1)\n",
    "index2 = list.index(min1)\n",
    "\n",
    "temp = index1\n",
    "\n",
    "list[index1] = min1\n",
    "list[index2] = max1"
   ]
  },
  {
   "cell_type": "code",
   "execution_count": 38,
   "id": "7fa370f7",
   "metadata": {},
   "outputs": [
    {
     "data": {
      "text/plain": [
       "[9090, 2, 3, 4, 5, 6, 100, 151, 20, 1]"
      ]
     },
     "execution_count": 38,
     "metadata": {},
     "output_type": "execute_result"
    }
   ],
   "source": [
    "list"
   ]
  },
  {
   "cell_type": "markdown",
   "id": "ea54e1fc",
   "metadata": {},
   "source": [
    "### 14-Given a number N and an array A of N numbers. Print the lowest number and its position.\n",
    "\n",
    "### Note: if there are more than one answer print first one's position."
   ]
  },
  {
   "cell_type": "code",
   "execution_count": 41,
   "id": "bfc33157",
   "metadata": {},
   "outputs": [
    {
     "name": "stdout",
     "output_type": "stream",
     "text": [
      "0 is the lowest number and it's postion is 7\n"
     ]
    }
   ],
   "source": [
    "list = [5,2,1,3,9,1,0]\n",
    "\n",
    "minimum = list[0]\n",
    "index = 0\n",
    "\n",
    "for i in range(len(list)):\n",
    "    if list[i] < minimum:\n",
    "        \n",
    "        minimum = list[i]\n",
    "        \n",
    "        index = i\n",
    "        \n",
    "print(f\"{minimum} is the lowest number and it's postion is {index +1}\")"
   ]
  },
  {
   "cell_type": "markdown",
   "id": "429d6d80",
   "metadata": {},
   "source": [
    "### 15-Given a number N and an array A of N numbers. Print the numbers after sorting them"
   ]
  },
  {
   "cell_type": "code",
   "execution_count": 53,
   "id": "41f006d3",
   "metadata": {},
   "outputs": [],
   "source": [
    "list = [10,26,80,90,100,150,2,0,98]\n",
    "\n",
    "n = len(list)\n",
    "\n",
    "for i in range(n):\n",
    "    \n",
    "    for j in range(i, n):\n",
    "        \n",
    "        if i != j:\n",
    "            \n",
    "            if list[i] > list[j]:\n",
    "                \n",
    "                temp = list[j]\n",
    "                list[j] = list[i]\n",
    "                list[i] = temp"
   ]
  },
  {
   "cell_type": "code",
   "execution_count": 46,
   "id": "73cf01f2",
   "metadata": {},
   "outputs": [
    {
     "data": {
      "text/plain": [
       "[0, 2, 10, 26, 80, 90, 98, 100, 150]"
      ]
     },
     "execution_count": 46,
     "metadata": {},
     "output_type": "execute_result"
    }
   ],
   "source": [
    "list"
   ]
  },
  {
   "cell_type": "markdown",
   "id": "96766ba9",
   "metadata": {},
   "source": [
    "### 16- Write a Python program to remove spaces from a given string"
   ]
  },
  {
   "cell_type": "code",
   "execution_count": 55,
   "id": "600995cc",
   "metadata": {},
   "outputs": [
    {
     "name": "stdout",
     "output_type": "stream",
     "text": [
      "please enter your name: ahmed raafat\n"
     ]
    },
    {
     "data": {
      "text/plain": [
       "'ahmedraafat'"
      ]
     },
     "execution_count": 55,
     "metadata": {},
     "output_type": "execute_result"
    }
   ],
   "source": [
    "name = input(\"please enter your name: \")\n",
    "\n",
    "name.replace(\" \",\"\")"
   ]
  },
  {
   "cell_type": "markdown",
   "id": "8411c041",
   "metadata": {},
   "source": [
    "### 17-write a Python program to swap first and last element of any list."
   ]
  },
  {
   "cell_type": "code",
   "execution_count": 65,
   "id": "d25265b0",
   "metadata": {},
   "outputs": [
    {
     "name": "stdout",
     "output_type": "stream",
     "text": [
      "[10, 2, 0, 1, 6, 8, 80, 90]\n",
      "========================================\n"
     ]
    },
    {
     "data": {
      "text/plain": [
       "[90, 2, 0, 1, 6, 8, 80, 90]"
      ]
     },
     "execution_count": 65,
     "metadata": {},
     "output_type": "execute_result"
    }
   ],
   "source": [
    "list = [10,2,0,1,6,8,80,90]\n",
    "\n",
    "print(list)\n",
    "\n",
    "print(\"=\"*40)\n",
    "\n",
    "list[0] = list[-1]\n",
    "\n",
    "list"
   ]
  },
  {
   "cell_type": "markdown",
   "id": "11f33005",
   "metadata": {},
   "source": [
    "### 18- Write a Python program to add member(s) to a set"
   ]
  },
  {
   "cell_type": "code",
   "execution_count": 66,
   "id": "20c75181",
   "metadata": {},
   "outputs": [
    {
     "data": {
      "text/plain": [
       "{2, 3, 4, 5}"
      ]
     },
     "execution_count": 66,
     "metadata": {},
     "output_type": "execute_result"
    }
   ],
   "source": [
    "set = {2,3,5}\n",
    "set.add(4)\n",
    "set"
   ]
  },
  {
   "cell_type": "markdown",
   "id": "84fd3c56",
   "metadata": {},
   "source": [
    "### 19-Write a Python program to remove an item from a set if it is present in the set"
   ]
  },
  {
   "cell_type": "code",
   "execution_count": 67,
   "id": "3854b96d",
   "metadata": {},
   "outputs": [
    {
     "data": {
      "text/plain": [
       "{10, 20, 30}"
      ]
     },
     "execution_count": 67,
     "metadata": {},
     "output_type": "execute_result"
    }
   ],
   "source": [
    "set = {10,20,30,40}\n",
    "set.remove(40)\n",
    "set"
   ]
  },
  {
   "cell_type": "markdown",
   "id": "8f49f52e",
   "metadata": {},
   "source": [
    "### 20-Write a Python program to get the maximum and minimum values of a dictionary values"
   ]
  },
  {
   "cell_type": "code",
   "execution_count": 72,
   "id": "9e3eab03",
   "metadata": {},
   "outputs": [
    {
     "data": {
      "text/plain": [
       "'c3'"
      ]
     },
     "execution_count": 72,
     "metadata": {},
     "output_type": "execute_result"
    }
   ],
   "source": [
    "dict = {'c1':5 , 'c2': 6 , 'c3' : 100}\n",
    "\n",
    "max(dict)"
   ]
  },
  {
   "cell_type": "code",
   "execution_count": 73,
   "id": "be099b83",
   "metadata": {},
   "outputs": [
    {
     "data": {
      "text/plain": [
       "'c1'"
      ]
     },
     "execution_count": 73,
     "metadata": {},
     "output_type": "execute_result"
    }
   ],
   "source": [
    "min(dict)"
   ]
  },
  {
   "cell_type": "markdown",
   "id": "4fbd6de4",
   "metadata": {},
   "source": [
    "### 21-Write a Python program to drop empty items from a given dictionary.Original Dictionary:{'c1': 'Red', 'c2': 'Green', 'c3': None}New Dictionary after dropping empty items:{'c1': 'Red', 'c2': 'Green'}"
   ]
  },
  {
   "cell_type": "code",
   "execution_count": 74,
   "id": "5172de52",
   "metadata": {},
   "outputs": [
    {
     "data": {
      "text/plain": [
       "{'c1': 'Red', 'c2': 'Green'}"
      ]
     },
     "execution_count": 74,
     "metadata": {},
     "output_type": "execute_result"
    }
   ],
   "source": [
    "dict = {'c1': 'Red', 'c2': 'Green', 'c3': None}\n",
    "\n",
    "dict.pop('c3')\n",
    "\n",
    "dict"
   ]
  },
  {
   "cell_type": "code",
   "execution_count": null,
   "id": "619a2a80",
   "metadata": {},
   "outputs": [],
   "source": []
  }
 ],
 "metadata": {
  "kernelspec": {
   "display_name": "Python 3 (ipykernel)",
   "language": "python",
   "name": "python3"
  },
  "language_info": {
   "codemirror_mode": {
    "name": "ipython",
    "version": 3
   },
   "file_extension": ".py",
   "mimetype": "text/x-python",
   "name": "python",
   "nbconvert_exporter": "python",
   "pygments_lexer": "ipython3",
   "version": "3.10.9"
  }
 },
 "nbformat": 4,
 "nbformat_minor": 5
}
